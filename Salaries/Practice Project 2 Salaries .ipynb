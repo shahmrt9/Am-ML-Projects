{
 "cells": [
  {
   "cell_type": "code",
   "execution_count": 1,
   "id": "2414235a",
   "metadata": {},
   "outputs": [],
   "source": [
    "import pandas as pd        # for data manipulation\n",
    "import numpy as np         # for mathematical calculations\n",
    "import seaborn as sns      # for data visualization\n",
    "\n",
    "import matplotlib.pyplot as plt  #for graphical analysis\n",
    "%matplotlib inline\n",
    "\n",
    "from scipy.stats import zscore # to remove outliers\n",
    "\n",
    "from sklearn.preprocessing import StandardScaler  # for normalize the model\n",
    "\n",
    "from sklearn.model_selection import train_test_split  # for train and test model\n",
    "\n",
    "import warnings                      # to ignore any warnings\n",
    "warnings.filterwarnings(\"ignore\")\n",
    "\n",
    "from sklearn import metrics  # for model evaluation\n",
    "from sklearn.metrics import mean_squared_error, mean_absolute_error, r2_score"
   ]
  },
  {
   "cell_type": "code",
   "execution_count": 2,
   "id": "92c9cc69",
   "metadata": {},
   "outputs": [
    {
     "data": {
      "text/html": [
       "<div>\n",
       "<style scoped>\n",
       "    .dataframe tbody tr th:only-of-type {\n",
       "        vertical-align: middle;\n",
       "    }\n",
       "\n",
       "    .dataframe tbody tr th {\n",
       "        vertical-align: top;\n",
       "    }\n",
       "\n",
       "    .dataframe thead th {\n",
       "        text-align: right;\n",
       "    }\n",
       "</style>\n",
       "<table border=\"1\" class=\"dataframe\">\n",
       "  <thead>\n",
       "    <tr style=\"text-align: right;\">\n",
       "      <th></th>\n",
       "      <th>rank</th>\n",
       "      <th>discipline</th>\n",
       "      <th>yrs.since.phd</th>\n",
       "      <th>yrs.service</th>\n",
       "      <th>sex</th>\n",
       "      <th>salary</th>\n",
       "    </tr>\n",
       "  </thead>\n",
       "  <tbody>\n",
       "    <tr>\n",
       "      <th>0</th>\n",
       "      <td>Prof</td>\n",
       "      <td>B</td>\n",
       "      <td>19</td>\n",
       "      <td>18</td>\n",
       "      <td>Male</td>\n",
       "      <td>139750</td>\n",
       "    </tr>\n",
       "    <tr>\n",
       "      <th>1</th>\n",
       "      <td>Prof</td>\n",
       "      <td>B</td>\n",
       "      <td>20</td>\n",
       "      <td>16</td>\n",
       "      <td>Male</td>\n",
       "      <td>173200</td>\n",
       "    </tr>\n",
       "    <tr>\n",
       "      <th>2</th>\n",
       "      <td>AsstProf</td>\n",
       "      <td>B</td>\n",
       "      <td>4</td>\n",
       "      <td>3</td>\n",
       "      <td>Male</td>\n",
       "      <td>79750</td>\n",
       "    </tr>\n",
       "    <tr>\n",
       "      <th>3</th>\n",
       "      <td>Prof</td>\n",
       "      <td>B</td>\n",
       "      <td>45</td>\n",
       "      <td>39</td>\n",
       "      <td>Male</td>\n",
       "      <td>115000</td>\n",
       "    </tr>\n",
       "    <tr>\n",
       "      <th>4</th>\n",
       "      <td>Prof</td>\n",
       "      <td>B</td>\n",
       "      <td>40</td>\n",
       "      <td>41</td>\n",
       "      <td>Male</td>\n",
       "      <td>141500</td>\n",
       "    </tr>\n",
       "  </tbody>\n",
       "</table>\n",
       "</div>"
      ],
      "text/plain": [
       "       rank discipline  yrs.since.phd  yrs.service   sex  salary\n",
       "0      Prof          B             19           18  Male  139750\n",
       "1      Prof          B             20           16  Male  173200\n",
       "2  AsstProf          B              4            3  Male   79750\n",
       "3      Prof          B             45           39  Male  115000\n",
       "4      Prof          B             40           41  Male  141500"
      ]
     },
     "execution_count": 2,
     "metadata": {},
     "output_type": "execute_result"
    }
   ],
   "source": [
    "data=pd.read_csv('Salaries.csv')  # read the data\n",
    "data.head()"
   ]
  },
  {
   "cell_type": "code",
   "execution_count": 3,
   "id": "f8825289",
   "metadata": {},
   "outputs": [
    {
     "name": "stdout",
     "output_type": "stream",
     "text": [
      "(397, 6)\n",
      "rank             0\n",
      "discipline       0\n",
      "yrs.since.phd    0\n",
      "yrs.service      0\n",
      "sex              0\n",
      "salary           0\n",
      "dtype: int64\n",
      "<class 'pandas.core.frame.DataFrame'>\n",
      "RangeIndex: 397 entries, 0 to 396\n",
      "Data columns (total 6 columns):\n",
      " #   Column         Non-Null Count  Dtype \n",
      "---  ------         --------------  ----- \n",
      " 0   rank           397 non-null    object\n",
      " 1   discipline     397 non-null    object\n",
      " 2   yrs.since.phd  397 non-null    int64 \n",
      " 3   yrs.service    397 non-null    int64 \n",
      " 4   sex            397 non-null    object\n",
      " 5   salary         397 non-null    int64 \n",
      "dtypes: int64(3), object(3)\n",
      "memory usage: 18.7+ KB\n"
     ]
    }
   ],
   "source": [
    "# check the no. of rows & column & finding the count of missing value\n",
    "print(data.shape)\n",
    "\n",
    "print(data.isna().sum())\n",
    "\n",
    "#printing the summary of data type\n",
    "data.info() "
   ]
  },
  {
   "cell_type": "code",
   "execution_count": 4,
   "id": "b9ecbc53",
   "metadata": {},
   "outputs": [
    {
     "name": "stdout",
     "output_type": "stream",
     "text": [
      "(393, 6)\n"
     ]
    }
   ],
   "source": [
    "data.drop_duplicates(inplace=True)\n",
    "\n",
    "print(data.shape)"
   ]
  },
  {
   "cell_type": "code",
   "execution_count": 5,
   "id": "956afe7c",
   "metadata": {},
   "outputs": [
    {
     "data": {
      "text/html": [
       "<div>\n",
       "<style scoped>\n",
       "    .dataframe tbody tr th:only-of-type {\n",
       "        vertical-align: middle;\n",
       "    }\n",
       "\n",
       "    .dataframe tbody tr th {\n",
       "        vertical-align: top;\n",
       "    }\n",
       "\n",
       "    .dataframe thead th {\n",
       "        text-align: right;\n",
       "    }\n",
       "</style>\n",
       "<table border=\"1\" class=\"dataframe\">\n",
       "  <thead>\n",
       "    <tr style=\"text-align: right;\">\n",
       "      <th></th>\n",
       "      <th>rank</th>\n",
       "      <th>discipline</th>\n",
       "      <th>yrs.since.phd</th>\n",
       "      <th>yrs.service</th>\n",
       "      <th>sex</th>\n",
       "      <th>salary</th>\n",
       "    </tr>\n",
       "  </thead>\n",
       "  <tbody>\n",
       "    <tr>\n",
       "      <th>count</th>\n",
       "      <td>393</td>\n",
       "      <td>393</td>\n",
       "      <td>393.000000</td>\n",
       "      <td>393.000000</td>\n",
       "      <td>393</td>\n",
       "      <td>393.000000</td>\n",
       "    </tr>\n",
       "    <tr>\n",
       "      <th>unique</th>\n",
       "      <td>3</td>\n",
       "      <td>2</td>\n",
       "      <td>NaN</td>\n",
       "      <td>NaN</td>\n",
       "      <td>2</td>\n",
       "      <td>NaN</td>\n",
       "    </tr>\n",
       "    <tr>\n",
       "      <th>top</th>\n",
       "      <td>Prof</td>\n",
       "      <td>B</td>\n",
       "      <td>NaN</td>\n",
       "      <td>NaN</td>\n",
       "      <td>Male</td>\n",
       "      <td>NaN</td>\n",
       "    </tr>\n",
       "    <tr>\n",
       "      <th>freq</th>\n",
       "      <td>266</td>\n",
       "      <td>212</td>\n",
       "      <td>NaN</td>\n",
       "      <td>NaN</td>\n",
       "      <td>354</td>\n",
       "      <td>NaN</td>\n",
       "    </tr>\n",
       "    <tr>\n",
       "      <th>mean</th>\n",
       "      <td>NaN</td>\n",
       "      <td>NaN</td>\n",
       "      <td>22.503817</td>\n",
       "      <td>17.755725</td>\n",
       "      <td>NaN</td>\n",
       "      <td>113930.844784</td>\n",
       "    </tr>\n",
       "    <tr>\n",
       "      <th>std</th>\n",
       "      <td>NaN</td>\n",
       "      <td>NaN</td>\n",
       "      <td>12.814637</td>\n",
       "      <td>12.996129</td>\n",
       "      <td>NaN</td>\n",
       "      <td>30360.608788</td>\n",
       "    </tr>\n",
       "    <tr>\n",
       "      <th>min</th>\n",
       "      <td>NaN</td>\n",
       "      <td>NaN</td>\n",
       "      <td>1.000000</td>\n",
       "      <td>0.000000</td>\n",
       "      <td>NaN</td>\n",
       "      <td>57800.000000</td>\n",
       "    </tr>\n",
       "    <tr>\n",
       "      <th>25%</th>\n",
       "      <td>NaN</td>\n",
       "      <td>NaN</td>\n",
       "      <td>12.000000</td>\n",
       "      <td>7.000000</td>\n",
       "      <td>NaN</td>\n",
       "      <td>91000.000000</td>\n",
       "    </tr>\n",
       "    <tr>\n",
       "      <th>50%</th>\n",
       "      <td>NaN</td>\n",
       "      <td>NaN</td>\n",
       "      <td>21.000000</td>\n",
       "      <td>17.000000</td>\n",
       "      <td>NaN</td>\n",
       "      <td>107500.000000</td>\n",
       "    </tr>\n",
       "    <tr>\n",
       "      <th>75%</th>\n",
       "      <td>NaN</td>\n",
       "      <td>NaN</td>\n",
       "      <td>32.000000</td>\n",
       "      <td>27.000000</td>\n",
       "      <td>NaN</td>\n",
       "      <td>134550.000000</td>\n",
       "    </tr>\n",
       "    <tr>\n",
       "      <th>max</th>\n",
       "      <td>NaN</td>\n",
       "      <td>NaN</td>\n",
       "      <td>56.000000</td>\n",
       "      <td>60.000000</td>\n",
       "      <td>NaN</td>\n",
       "      <td>231545.000000</td>\n",
       "    </tr>\n",
       "  </tbody>\n",
       "</table>\n",
       "</div>"
      ],
      "text/plain": [
       "        rank discipline  yrs.since.phd  yrs.service   sex         salary\n",
       "count    393        393     393.000000   393.000000   393     393.000000\n",
       "unique     3          2            NaN          NaN     2            NaN\n",
       "top     Prof          B            NaN          NaN  Male            NaN\n",
       "freq     266        212            NaN          NaN   354            NaN\n",
       "mean     NaN        NaN      22.503817    17.755725   NaN  113930.844784\n",
       "std      NaN        NaN      12.814637    12.996129   NaN   30360.608788\n",
       "min      NaN        NaN       1.000000     0.000000   NaN   57800.000000\n",
       "25%      NaN        NaN      12.000000     7.000000   NaN   91000.000000\n",
       "50%      NaN        NaN      21.000000    17.000000   NaN  107500.000000\n",
       "75%      NaN        NaN      32.000000    27.000000   NaN  134550.000000\n",
       "max      NaN        NaN      56.000000    60.000000   NaN  231545.000000"
      ]
     },
     "execution_count": 5,
     "metadata": {},
     "output_type": "execute_result"
    }
   ],
   "source": [
    "#understand data at high level check the stastics of dataset\n",
    "data.describe(include='all')"
   ]
  },
  {
   "cell_type": "raw",
   "id": "92025f22",
   "metadata": {},
   "source": [
    "Observations:-\n",
    "1)As we see their is no missing values\n",
    "2) we have categorical data(rank,sex,discipline) it is object type"
   ]
  },
  {
   "cell_type": "code",
   "execution_count": 6,
   "id": "48b6b6de",
   "metadata": {},
   "outputs": [
    {
     "name": "stdout",
     "output_type": "stream",
     "text": [
      "sex     discipline\n",
      "Female  B              21\n",
      "        A              18\n",
      "Male    B             191\n",
      "        A             163\n",
      "Name: discipline, dtype: int64\n"
     ]
    }
   ],
   "source": [
    "# finding the how many male and female are in discipline column\n",
    "print(data.groupby(\"sex\")['discipline'].value_counts())"
   ]
  },
  {
   "cell_type": "code",
   "execution_count": 7,
   "id": "e6b205d9",
   "metadata": {},
   "outputs": [
    {
     "name": "stdout",
     "output_type": "stream",
     "text": [
      "sex     rank     \n",
      "Female  Prof          18\n",
      "        AsstProf      11\n",
      "        AssocProf     10\n",
      "Male    Prof         248\n",
      "        AssocProf     54\n",
      "        AsstProf      52\n",
      "Name: rank, dtype: int64\n"
     ]
    }
   ],
   "source": [
    "# finding the how many male and female are in rank column\n",
    "print(data.groupby(\"sex\")['rank'].value_counts())"
   ]
  },
  {
   "cell_type": "raw",
   "id": "41f138db",
   "metadata": {},
   "source": [
    "we can see that the male count is more than female in both the categories"
   ]
  },
  {
   "cell_type": "code",
   "execution_count": 8,
   "id": "515915f7",
   "metadata": {},
   "outputs": [],
   "source": [
    "# Lets frist covert categorical data(sex,rank & discipline) into int \n",
    "\n",
    "from sklearn.preprocessing import LabelEncoder  # to convert object into int\n",
    "label = LabelEncoder()\n",
    "df=label.fit_transform(data[\"sex\"]) \n",
    "pd.Series(df)\n",
    "data[\"sex\"]=df"
   ]
  },
  {
   "cell_type": "code",
   "execution_count": 9,
   "id": "42891e95",
   "metadata": {},
   "outputs": [],
   "source": [
    "label = LabelEncoder()\n",
    "df=label.fit_transform(data[\"discipline\"]) \n",
    "pd.Series(df)\n",
    "data[\"discipline\"]=df"
   ]
  },
  {
   "cell_type": "code",
   "execution_count": 10,
   "id": "53770341",
   "metadata": {},
   "outputs": [
    {
     "data": {
      "text/html": [
       "<div>\n",
       "<style scoped>\n",
       "    .dataframe tbody tr th:only-of-type {\n",
       "        vertical-align: middle;\n",
       "    }\n",
       "\n",
       "    .dataframe tbody tr th {\n",
       "        vertical-align: top;\n",
       "    }\n",
       "\n",
       "    .dataframe thead th {\n",
       "        text-align: right;\n",
       "    }\n",
       "</style>\n",
       "<table border=\"1\" class=\"dataframe\">\n",
       "  <thead>\n",
       "    <tr style=\"text-align: right;\">\n",
       "      <th></th>\n",
       "      <th>AssocProf</th>\n",
       "      <th>AsstProf</th>\n",
       "      <th>Prof</th>\n",
       "    </tr>\n",
       "  </thead>\n",
       "  <tbody>\n",
       "    <tr>\n",
       "      <th>395</th>\n",
       "      <td>0</td>\n",
       "      <td>0</td>\n",
       "      <td>1</td>\n",
       "    </tr>\n",
       "    <tr>\n",
       "      <th>396</th>\n",
       "      <td>0</td>\n",
       "      <td>1</td>\n",
       "      <td>0</td>\n",
       "    </tr>\n",
       "  </tbody>\n",
       "</table>\n",
       "</div>"
      ],
      "text/plain": [
       "     AssocProf  AsstProf  Prof\n",
       "395          0         0     1\n",
       "396          0         1     0"
      ]
     },
     "execution_count": 10,
     "metadata": {},
     "output_type": "execute_result"
    }
   ],
   "source": [
    "df=pd.get_dummies(data[\"rank\"])\n",
    "df.tail(2)"
   ]
  },
  {
   "cell_type": "code",
   "execution_count": 11,
   "id": "6ef4f503",
   "metadata": {},
   "outputs": [
    {
     "data": {
      "text/plain": [
       "(393, 9)"
      ]
     },
     "execution_count": 11,
     "metadata": {},
     "output_type": "execute_result"
    }
   ],
   "source": [
    "data=data.join(df)\n",
    "data.shape"
   ]
  },
  {
   "cell_type": "code",
   "execution_count": 12,
   "id": "e56a0356",
   "metadata": {},
   "outputs": [
    {
     "data": {
      "text/html": [
       "<div>\n",
       "<style scoped>\n",
       "    .dataframe tbody tr th:only-of-type {\n",
       "        vertical-align: middle;\n",
       "    }\n",
       "\n",
       "    .dataframe tbody tr th {\n",
       "        vertical-align: top;\n",
       "    }\n",
       "\n",
       "    .dataframe thead th {\n",
       "        text-align: right;\n",
       "    }\n",
       "</style>\n",
       "<table border=\"1\" class=\"dataframe\">\n",
       "  <thead>\n",
       "    <tr style=\"text-align: right;\">\n",
       "      <th></th>\n",
       "      <th>discipline</th>\n",
       "      <th>yrs.since.phd</th>\n",
       "      <th>yrs.service</th>\n",
       "      <th>sex</th>\n",
       "      <th>salary</th>\n",
       "      <th>AssocProf</th>\n",
       "      <th>AsstProf</th>\n",
       "      <th>Prof</th>\n",
       "    </tr>\n",
       "  </thead>\n",
       "  <tbody>\n",
       "    <tr>\n",
       "      <th>0</th>\n",
       "      <td>1</td>\n",
       "      <td>19</td>\n",
       "      <td>18</td>\n",
       "      <td>1</td>\n",
       "      <td>139750</td>\n",
       "      <td>0</td>\n",
       "      <td>0</td>\n",
       "      <td>1</td>\n",
       "    </tr>\n",
       "    <tr>\n",
       "      <th>1</th>\n",
       "      <td>1</td>\n",
       "      <td>20</td>\n",
       "      <td>16</td>\n",
       "      <td>1</td>\n",
       "      <td>173200</td>\n",
       "      <td>0</td>\n",
       "      <td>0</td>\n",
       "      <td>1</td>\n",
       "    </tr>\n",
       "    <tr>\n",
       "      <th>2</th>\n",
       "      <td>1</td>\n",
       "      <td>4</td>\n",
       "      <td>3</td>\n",
       "      <td>1</td>\n",
       "      <td>79750</td>\n",
       "      <td>0</td>\n",
       "      <td>1</td>\n",
       "      <td>0</td>\n",
       "    </tr>\n",
       "    <tr>\n",
       "      <th>3</th>\n",
       "      <td>1</td>\n",
       "      <td>45</td>\n",
       "      <td>39</td>\n",
       "      <td>1</td>\n",
       "      <td>115000</td>\n",
       "      <td>0</td>\n",
       "      <td>0</td>\n",
       "      <td>1</td>\n",
       "    </tr>\n",
       "    <tr>\n",
       "      <th>4</th>\n",
       "      <td>1</td>\n",
       "      <td>40</td>\n",
       "      <td>41</td>\n",
       "      <td>1</td>\n",
       "      <td>141500</td>\n",
       "      <td>0</td>\n",
       "      <td>0</td>\n",
       "      <td>1</td>\n",
       "    </tr>\n",
       "    <tr>\n",
       "      <th>...</th>\n",
       "      <td>...</td>\n",
       "      <td>...</td>\n",
       "      <td>...</td>\n",
       "      <td>...</td>\n",
       "      <td>...</td>\n",
       "      <td>...</td>\n",
       "      <td>...</td>\n",
       "      <td>...</td>\n",
       "    </tr>\n",
       "    <tr>\n",
       "      <th>392</th>\n",
       "      <td>0</td>\n",
       "      <td>33</td>\n",
       "      <td>30</td>\n",
       "      <td>1</td>\n",
       "      <td>103106</td>\n",
       "      <td>0</td>\n",
       "      <td>0</td>\n",
       "      <td>1</td>\n",
       "    </tr>\n",
       "    <tr>\n",
       "      <th>393</th>\n",
       "      <td>0</td>\n",
       "      <td>31</td>\n",
       "      <td>19</td>\n",
       "      <td>1</td>\n",
       "      <td>150564</td>\n",
       "      <td>0</td>\n",
       "      <td>0</td>\n",
       "      <td>1</td>\n",
       "    </tr>\n",
       "    <tr>\n",
       "      <th>394</th>\n",
       "      <td>0</td>\n",
       "      <td>42</td>\n",
       "      <td>25</td>\n",
       "      <td>1</td>\n",
       "      <td>101738</td>\n",
       "      <td>0</td>\n",
       "      <td>0</td>\n",
       "      <td>1</td>\n",
       "    </tr>\n",
       "    <tr>\n",
       "      <th>395</th>\n",
       "      <td>0</td>\n",
       "      <td>25</td>\n",
       "      <td>15</td>\n",
       "      <td>1</td>\n",
       "      <td>95329</td>\n",
       "      <td>0</td>\n",
       "      <td>0</td>\n",
       "      <td>1</td>\n",
       "    </tr>\n",
       "    <tr>\n",
       "      <th>396</th>\n",
       "      <td>0</td>\n",
       "      <td>8</td>\n",
       "      <td>4</td>\n",
       "      <td>1</td>\n",
       "      <td>81035</td>\n",
       "      <td>0</td>\n",
       "      <td>1</td>\n",
       "      <td>0</td>\n",
       "    </tr>\n",
       "  </tbody>\n",
       "</table>\n",
       "<p>393 rows × 8 columns</p>\n",
       "</div>"
      ],
      "text/plain": [
       "     discipline  yrs.since.phd  yrs.service  sex  salary  AssocProf  AsstProf  \\\n",
       "0             1             19           18    1  139750          0         0   \n",
       "1             1             20           16    1  173200          0         0   \n",
       "2             1              4            3    1   79750          0         1   \n",
       "3             1             45           39    1  115000          0         0   \n",
       "4             1             40           41    1  141500          0         0   \n",
       "..          ...            ...          ...  ...     ...        ...       ...   \n",
       "392           0             33           30    1  103106          0         0   \n",
       "393           0             31           19    1  150564          0         0   \n",
       "394           0             42           25    1  101738          0         0   \n",
       "395           0             25           15    1   95329          0         0   \n",
       "396           0              8            4    1   81035          0         1   \n",
       "\n",
       "     Prof  \n",
       "0       1  \n",
       "1       1  \n",
       "2       0  \n",
       "3       1  \n",
       "4       1  \n",
       "..    ...  \n",
       "392     1  \n",
       "393     1  \n",
       "394     1  \n",
       "395     1  \n",
       "396     0  \n",
       "\n",
       "[393 rows x 8 columns]"
      ]
     },
     "execution_count": 12,
     "metadata": {},
     "output_type": "execute_result"
    }
   ],
   "source": [
    "data=data.drop('rank',axis=1)\n",
    "data # now our data looks good now lets see the distribusion"
   ]
  },
  {
   "cell_type": "code",
   "execution_count": 13,
   "id": "8578d480",
   "metadata": {},
   "outputs": [
    {
     "data": {
      "image/png": "[encoded data removed]",
      "text/plain": [
       "<Figure size 1080x1440 with 8 Axes>"
      ]
     },
     "metadata": {
      "needs_background": "light"
     },
     "output_type": "display_data"
    }
   ],
   "source": [
    "#Let's see the how data is distributed or Graphical analysis of all features\n",
    "plt.figure(figsize=(15,20))\n",
    "plotnumber=1\n",
    "for column in data:\n",
    "    if plotnumber<=20:\n",
    "        ax=plt.subplot(5,4,plotnumber)\n",
    "        sns.distplot(data[column])\n",
    "        plt.xlabel(column,fontsize=20)\n",
    "    plotnumber+=1\n",
    "plt.tight_layout()"
   ]
  },
  {
   "cell_type": "code",
   "execution_count": 14,
   "id": "1a748df8",
   "metadata": {},
   "outputs": [
    {
     "data": {
      "text/plain": [
       "<AxesSubplot:xlabel='yrs.since.phd', ylabel='salary'>"
      ]
     },
     "execution_count": 14,
     "metadata": {},
     "output_type": "execute_result"
    },
    {
     "data": {
      "image/png": "[encoded data removed]",
      "text/plain": [
       "<Figure size 720x432 with 1 Axes>"
      ]
     },
     "metadata": {
      "needs_background": "light"
     },
     "output_type": "display_data"
    }
   ],
   "source": [
    "plt.figure(figsize =(10, 6))\n",
    "sns.scatterplot(y ='salary', x ='yrs.since.phd', data = data)"
   ]
  },
  {
   "cell_type": "raw",
   "id": "aa952602",
   "metadata": {},
   "source": [
    "from above graph we see linear relation between yrs.since.phd and salary"
   ]
  },
  {
   "cell_type": "code",
   "execution_count": 15,
   "id": "1cbf13d5",
   "metadata": {},
   "outputs": [
    {
     "data": {
      "text/plain": [
       "<AxesSubplot:xlabel='yrs.service', ylabel='salary'>"
      ]
     },
     "execution_count": 15,
     "metadata": {},
     "output_type": "execute_result"
    },
    {
     "data": {
      "image/png": "[encoded data removed]",
      "text/plain": [
       "<Figure size 720x432 with 1 Axes>"
      ]
     },
     "metadata": {
      "needs_background": "light"
     },
     "output_type": "display_data"
    }
   ],
   "source": [
    "plt.figure(figsize =(10, 6))\n",
    "sns.scatterplot(y ='salary', x ='yrs.service', data = data)"
   ]
  },
  {
   "cell_type": "raw",
   "id": "df2dfc1a",
   "metadata": {},
   "source": [
    "from above graph we see no linear relation between yrs.service and salary"
   ]
  },
  {
   "cell_type": "code",
   "execution_count": 16,
   "id": "86d11182",
   "metadata": {},
   "outputs": [
    {
     "data": {
      "text/plain": [
       "<AxesSubplot:xlabel='sex', ylabel='salary'>"
      ]
     },
     "execution_count": 16,
     "metadata": {},
     "output_type": "execute_result"
    },
    {
     "data": {
      "image/png": "[encoded data removed]",
      "text/plain": [
       "<Figure size 720x432 with 1 Axes>"
      ]
     },
     "metadata": {
      "needs_background": "light"
     },
     "output_type": "display_data"
    },
    {
     "data": {
      "image/png": "[encoded data removed]",
      "text/plain": [
       "<Figure size 720x432 with 1 Axes>"
      ]
     },
     "metadata": {
      "needs_background": "light"
     },
     "output_type": "display_data"
    }
   ],
   "source": [
    "plt.figure(figsize =(10, 6))\n",
    "sns.boxplot(y ='salary', x ='discipline', data = data)\n",
    "\n",
    "plt.figure(figsize =(10, 6))\n",
    "sns.boxplot(y ='salary', x ='sex', data = data)"
   ]
  },
  {
   "cell_type": "raw",
   "id": "5e00d8ed",
   "metadata": {},
   "source": [
    "As we see there are some skweness are present in all columns lets first remove it and see the distribusion "
   ]
  },
  {
   "cell_type": "code",
   "execution_count": 17,
   "id": "898d012b",
   "metadata": {},
   "outputs": [],
   "source": [
    "#As outliers present in salary first remove it \n",
    "q1=data.quantile(0.25)\n",
    "q3=data.quantile(0.75)\n",
    "iqr=q3-q1"
   ]
  },
  {
   "cell_type": "code",
   "execution_count": 18,
   "id": "ca67cef7",
   "metadata": {},
   "outputs": [],
   "source": [
    "salary_H=(q3.salary+(1.5*iqr.salary))"
   ]
  },
  {
   "cell_type": "code",
   "execution_count": 19,
   "id": "e13a797a",
   "metadata": {},
   "outputs": [
    {
     "name": "stdout",
     "output_type": "stream",
     "text": [
      "(array([ 43, 245, 360], dtype=int64),)\n"
     ]
    },
    {
     "data": {
      "text/plain": [
       "(390, 8)"
      ]
     },
     "execution_count": 19,
     "metadata": {},
     "output_type": "execute_result"
    }
   ],
   "source": [
    "Index=np.where(data['salary']>salary_H)\n",
    "print(Index)\n",
    "data=data.drop(data.index[Index])\n",
    "data.shape"
   ]
  },
  {
   "cell_type": "code",
   "execution_count": 20,
   "id": "de2596bc",
   "metadata": {},
   "outputs": [
    {
     "ename": "KeyError",
     "evalue": "\"['index'] not found in axis\"",
     "output_type": "error",
     "traceback": [
      "\u001b[1;31m---------------------------------------------------------------------------\u001b[0m",
      "\u001b[1;31mKeyError\u001b[0m                                  Traceback (most recent call last)",
      "\u001b[1;32m<ipython-input-20-0e7861c6ad00>\u001b[0m in \u001b[0;36m<module>\u001b[1;34m\u001b[0m\n\u001b[0;32m      1\u001b[0m \u001b[0mdata\u001b[0m\u001b[1;33m.\u001b[0m\u001b[0mreset_index\u001b[0m\u001b[1;33m(\u001b[0m\u001b[1;33m)\u001b[0m\u001b[1;33m\u001b[0m\u001b[1;33m\u001b[0m\u001b[0m\n\u001b[1;32m----> 2\u001b[1;33m \u001b[0mdata\u001b[0m\u001b[1;33m=\u001b[0m\u001b[0mdata\u001b[0m\u001b[1;33m.\u001b[0m\u001b[0mdrop\u001b[0m\u001b[1;33m(\u001b[0m\u001b[1;34m'index'\u001b[0m\u001b[1;33m,\u001b[0m\u001b[0maxis\u001b[0m\u001b[1;33m=\u001b[0m\u001b[1;36m1\u001b[0m\u001b[1;33m)\u001b[0m\u001b[1;33m\u001b[0m\u001b[1;33m\u001b[0m\u001b[0m\n\u001b[0m\u001b[0;32m      3\u001b[0m \u001b[0mdata\u001b[0m\u001b[1;33m.\u001b[0m\u001b[0mtail\u001b[0m\u001b[1;33m(\u001b[0m\u001b[1;36m3\u001b[0m\u001b[1;33m)\u001b[0m\u001b[1;33m\u001b[0m\u001b[1;33m\u001b[0m\u001b[0m\n",
      "\u001b[1;32m~\\anaconda3\\lib\\site-packages\\pandas\\core\\frame.py\u001b[0m in \u001b[0;36mdrop\u001b[1;34m(self, labels, axis, index, columns, level, inplace, errors)\u001b[0m\n\u001b[0;32m   4306\u001b[0m                 \u001b[0mweight\u001b[0m  \u001b[1;36m1.0\u001b[0m     \u001b[1;36m0.8\u001b[0m\u001b[1;33m\u001b[0m\u001b[1;33m\u001b[0m\u001b[0m\n\u001b[0;32m   4307\u001b[0m         \"\"\"\n\u001b[1;32m-> 4308\u001b[1;33m         return super().drop(\n\u001b[0m\u001b[0;32m   4309\u001b[0m             \u001b[0mlabels\u001b[0m\u001b[1;33m=\u001b[0m\u001b[0mlabels\u001b[0m\u001b[1;33m,\u001b[0m\u001b[1;33m\u001b[0m\u001b[1;33m\u001b[0m\u001b[0m\n\u001b[0;32m   4310\u001b[0m             \u001b[0maxis\u001b[0m\u001b[1;33m=\u001b[0m\u001b[0maxis\u001b[0m\u001b[1;33m,\u001b[0m\u001b[1;33m\u001b[0m\u001b[1;33m\u001b[0m\u001b[0m\n",
      "\u001b[1;32m~\\anaconda3\\lib\\site-packages\\pandas\\core\\generic.py\u001b[0m in \u001b[0;36mdrop\u001b[1;34m(self, labels, axis, index, columns, level, inplace, errors)\u001b[0m\n\u001b[0;32m   4151\u001b[0m         \u001b[1;32mfor\u001b[0m \u001b[0maxis\u001b[0m\u001b[1;33m,\u001b[0m \u001b[0mlabels\u001b[0m \u001b[1;32min\u001b[0m \u001b[0maxes\u001b[0m\u001b[1;33m.\u001b[0m\u001b[0mitems\u001b[0m\u001b[1;33m(\u001b[0m\u001b[1;33m)\u001b[0m\u001b[1;33m:\u001b[0m\u001b[1;33m\u001b[0m\u001b[1;33m\u001b[0m\u001b[0m\n\u001b[0;32m   4152\u001b[0m             \u001b[1;32mif\u001b[0m \u001b[0mlabels\u001b[0m \u001b[1;32mis\u001b[0m \u001b[1;32mnot\u001b[0m \u001b[1;32mNone\u001b[0m\u001b[1;33m:\u001b[0m\u001b[1;33m\u001b[0m\u001b[1;33m\u001b[0m\u001b[0m\n\u001b[1;32m-> 4153\u001b[1;33m                 \u001b[0mobj\u001b[0m \u001b[1;33m=\u001b[0m \u001b[0mobj\u001b[0m\u001b[1;33m.\u001b[0m\u001b[0m_drop_axis\u001b[0m\u001b[1;33m(\u001b[0m\u001b[0mlabels\u001b[0m\u001b[1;33m,\u001b[0m \u001b[0maxis\u001b[0m\u001b[1;33m,\u001b[0m \u001b[0mlevel\u001b[0m\u001b[1;33m=\u001b[0m\u001b[0mlevel\u001b[0m\u001b[1;33m,\u001b[0m \u001b[0merrors\u001b[0m\u001b[1;33m=\u001b[0m\u001b[0merrors\u001b[0m\u001b[1;33m)\u001b[0m\u001b[1;33m\u001b[0m\u001b[1;33m\u001b[0m\u001b[0m\n\u001b[0m\u001b[0;32m   4154\u001b[0m \u001b[1;33m\u001b[0m\u001b[0m\n\u001b[0;32m   4155\u001b[0m         \u001b[1;32mif\u001b[0m \u001b[0minplace\u001b[0m\u001b[1;33m:\u001b[0m\u001b[1;33m\u001b[0m\u001b[1;33m\u001b[0m\u001b[0m\n",
      "\u001b[1;32m~\\anaconda3\\lib\\site-packages\\pandas\\core\\generic.py\u001b[0m in \u001b[0;36m_drop_axis\u001b[1;34m(self, labels, axis, level, errors)\u001b[0m\n\u001b[0;32m   4186\u001b[0m                 \u001b[0mnew_axis\u001b[0m \u001b[1;33m=\u001b[0m \u001b[0maxis\u001b[0m\u001b[1;33m.\u001b[0m\u001b[0mdrop\u001b[0m\u001b[1;33m(\u001b[0m\u001b[0mlabels\u001b[0m\u001b[1;33m,\u001b[0m \u001b[0mlevel\u001b[0m\u001b[1;33m=\u001b[0m\u001b[0mlevel\u001b[0m\u001b[1;33m,\u001b[0m \u001b[0merrors\u001b[0m\u001b[1;33m=\u001b[0m\u001b[0merrors\u001b[0m\u001b[1;33m)\u001b[0m\u001b[1;33m\u001b[0m\u001b[1;33m\u001b[0m\u001b[0m\n\u001b[0;32m   4187\u001b[0m             \u001b[1;32melse\u001b[0m\u001b[1;33m:\u001b[0m\u001b[1;33m\u001b[0m\u001b[1;33m\u001b[0m\u001b[0m\n\u001b[1;32m-> 4188\u001b[1;33m                 \u001b[0mnew_axis\u001b[0m \u001b[1;33m=\u001b[0m \u001b[0maxis\u001b[0m\u001b[1;33m.\u001b[0m\u001b[0mdrop\u001b[0m\u001b[1;33m(\u001b[0m\u001b[0mlabels\u001b[0m\u001b[1;33m,\u001b[0m \u001b[0merrors\u001b[0m\u001b[1;33m=\u001b[0m\u001b[0merrors\u001b[0m\u001b[1;33m)\u001b[0m\u001b[1;33m\u001b[0m\u001b[1;33m\u001b[0m\u001b[0m\n\u001b[0m\u001b[0;32m   4189\u001b[0m             \u001b[0mresult\u001b[0m \u001b[1;33m=\u001b[0m \u001b[0mself\u001b[0m\u001b[1;33m.\u001b[0m\u001b[0mreindex\u001b[0m\u001b[1;33m(\u001b[0m\u001b[1;33m**\u001b[0m\u001b[1;33m{\u001b[0m\u001b[0maxis_name\u001b[0m\u001b[1;33m:\u001b[0m \u001b[0mnew_axis\u001b[0m\u001b[1;33m}\u001b[0m\u001b[1;33m)\u001b[0m\u001b[1;33m\u001b[0m\u001b[1;33m\u001b[0m\u001b[0m\n\u001b[0;32m   4190\u001b[0m \u001b[1;33m\u001b[0m\u001b[0m\n",
      "\u001b[1;32m~\\anaconda3\\lib\\site-packages\\pandas\\core\\indexes\\base.py\u001b[0m in \u001b[0;36mdrop\u001b[1;34m(self, labels, errors)\u001b[0m\n\u001b[0;32m   5589\u001b[0m         \u001b[1;32mif\u001b[0m \u001b[0mmask\u001b[0m\u001b[1;33m.\u001b[0m\u001b[0many\u001b[0m\u001b[1;33m(\u001b[0m\u001b[1;33m)\u001b[0m\u001b[1;33m:\u001b[0m\u001b[1;33m\u001b[0m\u001b[1;33m\u001b[0m\u001b[0m\n\u001b[0;32m   5590\u001b[0m             \u001b[1;32mif\u001b[0m \u001b[0merrors\u001b[0m \u001b[1;33m!=\u001b[0m \u001b[1;34m\"ignore\"\u001b[0m\u001b[1;33m:\u001b[0m\u001b[1;33m\u001b[0m\u001b[1;33m\u001b[0m\u001b[0m\n\u001b[1;32m-> 5591\u001b[1;33m                 \u001b[1;32mraise\u001b[0m \u001b[0mKeyError\u001b[0m\u001b[1;33m(\u001b[0m\u001b[1;34mf\"{labels[mask]} not found in axis\"\u001b[0m\u001b[1;33m)\u001b[0m\u001b[1;33m\u001b[0m\u001b[1;33m\u001b[0m\u001b[0m\n\u001b[0m\u001b[0;32m   5592\u001b[0m             \u001b[0mindexer\u001b[0m \u001b[1;33m=\u001b[0m \u001b[0mindexer\u001b[0m\u001b[1;33m[\u001b[0m\u001b[1;33m~\u001b[0m\u001b[0mmask\u001b[0m\u001b[1;33m]\u001b[0m\u001b[1;33m\u001b[0m\u001b[1;33m\u001b[0m\u001b[0m\n\u001b[0;32m   5593\u001b[0m         \u001b[1;32mreturn\u001b[0m \u001b[0mself\u001b[0m\u001b[1;33m.\u001b[0m\u001b[0mdelete\u001b[0m\u001b[1;33m(\u001b[0m\u001b[0mindexer\u001b[0m\u001b[1;33m)\u001b[0m\u001b[1;33m\u001b[0m\u001b[1;33m\u001b[0m\u001b[0m\n",
      "\u001b[1;31mKeyError\u001b[0m: \"['index'] not found in axis\""
     ]
    }
   ],
   "source": [
    "data.reset_index()\n",
    "data=data.drop('index',axis=1)\n",
    "data.tail(3)"
   ]
  },
  {
   "cell_type": "code",
   "execution_count": 21,
   "id": "53141a04",
   "metadata": {},
   "outputs": [
    {
     "data": {
      "text/plain": [
       "<AxesSubplot:xlabel='sex', ylabel='salary'>"
      ]
     },
     "execution_count": 21,
     "metadata": {},
     "output_type": "execute_result"
    },
    {
     "data": {
      "image/png": "[encoded data removed]",
      "text/plain": [
       "<Figure size 720x432 with 1 Axes>"
      ]
     },
     "metadata": {
      "needs_background": "light"
     },
     "output_type": "display_data"
    },
    {
     "data": {
      "image/png": "[encoded data removed]",
      "text/plain": [
       "<Figure size 720x432 with 1 Axes>"
      ]
     },
     "metadata": {
      "needs_background": "light"
     },
     "output_type": "display_data"
    }
   ],
   "source": [
    "# CHeck distribusion after removing outliers\n",
    "\n",
    "plt.figure(figsize =(10, 6))\n",
    "sns.boxplot(y ='salary', x ='discipline', data = data)\n",
    "\n",
    "plt.figure(figsize =(10, 6))\n",
    "sns.boxplot(y ='salary', x ='sex', data = data)\n"
   ]
  },
  {
   "cell_type": "code",
   "execution_count": 22,
   "id": "19615513",
   "metadata": {},
   "outputs": [],
   "source": [
    "from sklearn.preprocessing import PowerTransformer\n",
    "\n",
    "fetures=['discipline', 'yrs.since.phd', 'yrs.service', 'sex', 'salary',\n",
    "       'AssocProf', 'AsstProf', 'Prof']\n",
    "pt=PowerTransformer()\n",
    "data[fetures]=pt.fit_transform(data[fetures].values)"
   ]
  },
  {
   "cell_type": "code",
   "execution_count": 23,
   "id": "ce92dcd3",
   "metadata": {},
   "outputs": [
    {
     "data": {
      "text/html": [
       "<div>\n",
       "<style scoped>\n",
       "    .dataframe tbody tr th:only-of-type {\n",
       "        vertical-align: middle;\n",
       "    }\n",
       "\n",
       "    .dataframe tbody tr th {\n",
       "        vertical-align: top;\n",
       "    }\n",
       "\n",
       "    .dataframe thead th {\n",
       "        text-align: right;\n",
       "    }\n",
       "</style>\n",
       "<table border=\"1\" class=\"dataframe\">\n",
       "  <thead>\n",
       "    <tr style=\"text-align: right;\">\n",
       "      <th></th>\n",
       "      <th>discipline</th>\n",
       "      <th>yrs.since.phd</th>\n",
       "      <th>yrs.service</th>\n",
       "      <th>sex</th>\n",
       "      <th>salary</th>\n",
       "      <th>AssocProf</th>\n",
       "      <th>AsstProf</th>\n",
       "      <th>Prof</th>\n",
       "    </tr>\n",
       "  </thead>\n",
       "  <tbody>\n",
       "    <tr>\n",
       "      <th>0</th>\n",
       "      <td>0.921054</td>\n",
       "      <td>-0.138596</td>\n",
       "      <td>0.240621</td>\n",
       "      <td>0.333333</td>\n",
       "      <td>0.956970</td>\n",
       "      <td>-0.443079</td>\n",
       "      <td>-0.438931</td>\n",
       "      <td>0.694903</td>\n",
       "    </tr>\n",
       "    <tr>\n",
       "      <th>1</th>\n",
       "      <td>0.921054</td>\n",
       "      <td>-0.059654</td>\n",
       "      <td>0.093886</td>\n",
       "      <td>0.333333</td>\n",
       "      <td>1.769761</td>\n",
       "      <td>-0.443079</td>\n",
       "      <td>-0.438931</td>\n",
       "      <td>0.694903</td>\n",
       "    </tr>\n",
       "    <tr>\n",
       "      <th>2</th>\n",
       "      <td>0.921054</td>\n",
       "      <td>-1.652293</td>\n",
       "      <td>-1.297770</td>\n",
       "      <td>0.333333</td>\n",
       "      <td>-1.253051</td>\n",
       "      <td>-0.443079</td>\n",
       "      <td>2.278262</td>\n",
       "      <td>-1.439050</td>\n",
       "    </tr>\n",
       "    <tr>\n",
       "      <th>3</th>\n",
       "      <td>0.921054</td>\n",
       "      <td>1.574036</td>\n",
       "      <td>1.423769</td>\n",
       "      <td>0.333333</td>\n",
       "      <td>0.203215</td>\n",
       "      <td>-0.443079</td>\n",
       "      <td>-0.438931</td>\n",
       "      <td>0.694903</td>\n",
       "    </tr>\n",
       "    <tr>\n",
       "      <th>4</th>\n",
       "      <td>0.921054</td>\n",
       "      <td>1.284854</td>\n",
       "      <td>1.515194</td>\n",
       "      <td>0.333333</td>\n",
       "      <td>1.004589</td>\n",
       "      <td>-0.443079</td>\n",
       "      <td>-0.438931</td>\n",
       "      <td>0.694903</td>\n",
       "    </tr>\n",
       "    <tr>\n",
       "      <th>...</th>\n",
       "      <td>...</td>\n",
       "      <td>...</td>\n",
       "      <td>...</td>\n",
       "      <td>...</td>\n",
       "      <td>...</td>\n",
       "      <td>...</td>\n",
       "      <td>...</td>\n",
       "      <td>...</td>\n",
       "    </tr>\n",
       "    <tr>\n",
       "      <th>392</th>\n",
       "      <td>-1.085712</td>\n",
       "      <td>0.854124</td>\n",
       "      <td>0.975829</td>\n",
       "      <td>0.333333</td>\n",
       "      <td>-0.225501</td>\n",
       "      <td>-0.443079</td>\n",
       "      <td>-0.438931</td>\n",
       "      <td>0.694903</td>\n",
       "    </tr>\n",
       "    <tr>\n",
       "      <th>393</th>\n",
       "      <td>-1.085712</td>\n",
       "      <td>0.724471</td>\n",
       "      <td>0.310667</td>\n",
       "      <td>0.333333</td>\n",
       "      <td>1.241276</td>\n",
       "      <td>-0.443079</td>\n",
       "      <td>-0.438931</td>\n",
       "      <td>0.694903</td>\n",
       "    </tr>\n",
       "    <tr>\n",
       "      <th>394</th>\n",
       "      <td>-1.085712</td>\n",
       "      <td>1.402187</td>\n",
       "      <td>0.693880</td>\n",
       "      <td>0.333333</td>\n",
       "      <td>-0.278277</td>\n",
       "      <td>-0.443079</td>\n",
       "      <td>-0.438931</td>\n",
       "      <td>0.694903</td>\n",
       "    </tr>\n",
       "    <tr>\n",
       "      <th>395</th>\n",
       "      <td>-1.085712</td>\n",
       "      <td>0.313755</td>\n",
       "      <td>0.016784</td>\n",
       "      <td>0.333333</td>\n",
       "      <td>-0.536398</td>\n",
       "      <td>-0.443079</td>\n",
       "      <td>-0.438931</td>\n",
       "      <td>0.694903</td>\n",
       "    </tr>\n",
       "    <tr>\n",
       "      <th>396</th>\n",
       "      <td>-1.085712</td>\n",
       "      <td>-1.155665</td>\n",
       "      <td>-1.134895</td>\n",
       "      <td>0.333333</td>\n",
       "      <td>-1.188324</td>\n",
       "      <td>-0.443079</td>\n",
       "      <td>2.278262</td>\n",
       "      <td>-1.439050</td>\n",
       "    </tr>\n",
       "  </tbody>\n",
       "</table>\n",
       "<p>390 rows × 8 columns</p>\n",
       "</div>"
      ],
      "text/plain": [
       "     discipline  yrs.since.phd  yrs.service       sex    salary  AssocProf  \\\n",
       "0      0.921054      -0.138596     0.240621  0.333333  0.956970  -0.443079   \n",
       "1      0.921054      -0.059654     0.093886  0.333333  1.769761  -0.443079   \n",
       "2      0.921054      -1.652293    -1.297770  0.333333 -1.253051  -0.443079   \n",
       "3      0.921054       1.574036     1.423769  0.333333  0.203215  -0.443079   \n",
       "4      0.921054       1.284854     1.515194  0.333333  1.004589  -0.443079   \n",
       "..          ...            ...          ...       ...       ...        ...   \n",
       "392   -1.085712       0.854124     0.975829  0.333333 -0.225501  -0.443079   \n",
       "393   -1.085712       0.724471     0.310667  0.333333  1.241276  -0.443079   \n",
       "394   -1.085712       1.402187     0.693880  0.333333 -0.278277  -0.443079   \n",
       "395   -1.085712       0.313755     0.016784  0.333333 -0.536398  -0.443079   \n",
       "396   -1.085712      -1.155665    -1.134895  0.333333 -1.188324  -0.443079   \n",
       "\n",
       "     AsstProf      Prof  \n",
       "0   -0.438931  0.694903  \n",
       "1   -0.438931  0.694903  \n",
       "2    2.278262 -1.439050  \n",
       "3   -0.438931  0.694903  \n",
       "4   -0.438931  0.694903  \n",
       "..        ...       ...  \n",
       "392 -0.438931  0.694903  \n",
       "393 -0.438931  0.694903  \n",
       "394 -0.438931  0.694903  \n",
       "395 -0.438931  0.694903  \n",
       "396  2.278262 -1.439050  \n",
       "\n",
       "[390 rows x 8 columns]"
      ]
     },
     "execution_count": 23,
     "metadata": {},
     "output_type": "execute_result"
    }
   ],
   "source": [
    "data[fetures]"
   ]
  },
  {
   "cell_type": "code",
   "execution_count": 24,
   "id": "c3fa56a9",
   "metadata": {},
   "outputs": [
    {
     "data": {
      "image/png": "[encoded data removed]",
      "text/plain": [
       "<Figure size 504x504 with 2 Axes>"
      ]
     },
     "metadata": {
      "needs_background": "light"
     },
     "output_type": "display_data"
    }
   ],
   "source": [
    "#check multicolinearity\n",
    "plt.figure(figsize=(7,7))\n",
    "sns.heatmap(data.corr(),annot=True,annot_kws={'size':10})\n",
    "plt.show()"
   ]
  },
  {
   "cell_type": "code",
   "execution_count": 25,
   "id": "4e977938",
   "metadata": {},
   "outputs": [],
   "source": [
    "# Let's Seperate the data & visulize the relation between featurs & lable\n",
    "x=data.drop(columns=['salary'])\n",
    "y=data['salary']"
   ]
  },
  {
   "cell_type": "code",
   "execution_count": 26,
   "id": "9ce68e47",
   "metadata": {},
   "outputs": [],
   "source": [
    "# data stadardization\n",
    "scale=StandardScaler()\n",
    "x_scaled=scale.fit_transform(x)\n"
   ]
  },
  {
   "cell_type": "code",
   "execution_count": 27,
   "id": "258cda40",
   "metadata": {},
   "outputs": [],
   "source": [
    "#Split data into train & test\n",
    "x_train,x_test,y_train,y_test=train_test_split(x_scaled,y,test_size=0.30,random_state=4550)"
   ]
  },
  {
   "cell_type": "markdown",
   "id": "0ee3c7ed",
   "metadata": {},
   "source": [
    "# lets Build regression model for salary prediction"
   ]
  },
  {
   "cell_type": "code",
   "execution_count": 28,
   "id": "16533aea",
   "metadata": {},
   "outputs": [],
   "source": [
    "def print_score(model,x_train,x_test,y_train,y_test,train=True):\n",
    "    if train:\n",
    "        y_pred=model.predict(x_train)\n",
    "        print(\"Train Report:\",r2_score(y_train,y_pred))\n",
    "    elif train==False:\n",
    "        pred=model.predict(x_test)\n",
    "        print(\"Test Report:\",r2_score(y_test,pred))\n",
    "        print(\"RMSE:\",np.sqrt(mean_squared_error(y_test,pred)))\n",
    "        print(\"MAE:\",mean_absolute_error(y_test,pred))\n",
    "        print(\"MSE:\",mean_squared_error(y_test,pred))"
   ]
  },
  {
   "cell_type": "code",
   "execution_count": 29,
   "id": "513fa483",
   "metadata": {},
   "outputs": [],
   "source": [
    "#Below is a function to find the accuracy of each model on the basis of K-fold cross validation.\n",
    "\n",
    "from sklearn.model_selection import cross_val_score, KFold\n",
    "\n",
    "def model_accuracy(model,X_train=x_train,y_train=y_train):\n",
    "    accuracies = cross_val_score(estimator = model, X = X_train, y = y_train,cv=2)\n",
    "    print(\"Accuracy: {:.2f} %\".format(accuracies.mean()*100))\n",
    "    print(\"Standard Deviation: {:.2f} %\".format(accuracies.std()*100))"
   ]
  },
  {
   "cell_type": "code",
   "execution_count": 30,
   "id": "534ff237",
   "metadata": {},
   "outputs": [
    {
     "name": "stdout",
     "output_type": "stream",
     "text": [
      "4.095650512641934e-05\n",
      "Train Report: 0.5454185715190656\n",
      "Test Report: 0.5102973001553774\n",
      "RMSE: 0.6956556726081918\n",
      "MAE: 0.5442032210781246\n",
      "MSE: 0.4839368148319557\n",
      "Accuracy: 52.46 %\n",
      "Standard Deviation: 2.05 %\n"
     ]
    }
   ],
   "source": [
    "# Model no.1\n",
    "from sklearn.linear_model import LinearRegression, Lasso, LassoCV\n",
    "\n",
    "lcv=LassoCV(alphas=None,max_iter=10000,normalize=True)\n",
    "lcv.fit(x_train,y_train)\n",
    "alpha=lcv.alpha_\n",
    "print(alpha)\n",
    "Lasso_reg=Lasso(alpha).fit(x_train,y_train)\n",
    "\n",
    "print_score(Lasso_reg,x_train,x_test,y_train,y_test,train=True)\n",
    "print_score(Lasso_reg,x_train,x_test,y_train,y_test,train=False)\n",
    "model_accuracy(Lasso_reg)"
   ]
  },
  {
   "cell_type": "code",
   "execution_count": 31,
   "id": "73e93124",
   "metadata": {},
   "outputs": [
    {
     "name": "stdout",
     "output_type": "stream",
     "text": [
      "Train Report: 0.8956572007646617\n",
      "Test Report: 0.4298252070946875\n",
      "RMSE: 0.7506406656037903\n",
      "MAE: 0.5693641522670925\n",
      "MSE: 0.5634614088581014\n",
      "Accuracy: 41.79 %\n",
      "Standard Deviation: 2.08 %\n"
     ]
    }
   ],
   "source": [
    "# Model no.2\n",
    "from sklearn.ensemble import RandomForestRegressor\n",
    "\n",
    "rand_regressor= RandomForestRegressor()\n",
    "rand_regressor.fit(x_train,y_train)\n",
    "\n",
    "print_score(rand_regressor,x_train,x_test,y_train,y_test,train=True)\n",
    "print_score(rand_regressor,x_train,x_test,y_train,y_test,train=False)\n",
    "model_accuracy(rand_regressor)"
   ]
  },
  {
   "cell_type": "code",
   "execution_count": 32,
   "id": "4bec93ce",
   "metadata": {},
   "outputs": [
    {
     "name": "stdout",
     "output_type": "stream",
     "text": [
      "Train Report: 0.9624276970951988\n",
      "Test Report: 0.3108187443499344\n",
      "RMSE: 0.8252676287302602\n",
      "MAE: 0.6247647610515136\n",
      "MSE: 0.6810666590300666\n",
      "Accuracy: 25.33 %\n",
      "Standard Deviation: 7.20 %\n"
     ]
    }
   ],
   "source": [
    "# Model no.3\n",
    "from xgboost import XGBRegressor\n",
    "\n",
    "xgb=XGBRegressor()\n",
    "xgb.fit(x_train,y_train)\n",
    "\n",
    "print_score(xgb,x_train,x_test,y_train,y_test,train=True)\n",
    "print_score(xgb,x_train,x_test,y_train,y_test,train=False)\n",
    "model_accuracy(xgb)"
   ]
  },
  {
   "cell_type": "code",
   "execution_count": 33,
   "id": "37c35831",
   "metadata": {},
   "outputs": [
    {
     "name": "stdout",
     "output_type": "stream",
     "text": [
      "Train Report: 0.7920682759234966\n",
      "Test Report: 0.48706868633506895\n",
      "RMSE: 0.7119634323500994\n",
      "MAE: 0.5435109365151899\n",
      "MSE: 0.5068919290037346\n",
      "Accuracy: 31.20 %\n",
      "Standard Deviation: 9.00 %\n"
     ]
    }
   ],
   "source": [
    "#Model no.4\n",
    "from sklearn.ensemble import GradientBoostingRegressor\n",
    "\n",
    "gbdt=GradientBoostingRegressor()\n",
    "\n",
    "gbdt.fit(x_train,y_train)\n",
    "\n",
    "print_score(gbdt,x_train,x_test,y_train,y_test,train=True)\n",
    "print_score(gbdt,x_train,x_test,y_train,y_test,train=False)\n",
    "model_accuracy(gbdt)"
   ]
  },
  {
   "cell_type": "code",
   "execution_count": 34,
   "id": "d50ceb53",
   "metadata": {},
   "outputs": [
    {
     "name": "stdout",
     "output_type": "stream",
     "text": [
      "Train Report: 0.9658792056243102\n",
      "Test Report: 0.011252261937005681\n",
      "RMSE: 0.9884867065129654\n",
      "MAE: 0.7248273628164303\n",
      "MSE: 0.9771059689528495\n",
      "Accuracy: 5.04 %\n",
      "Standard Deviation: 2.35 %\n"
     ]
    }
   ],
   "source": [
    "#Model no.5\n",
    "from sklearn.tree import DecisionTreeRegressor\n",
    "\n",
    "dt=DecisionTreeRegressor()\n",
    "\n",
    "dt.fit(x_train,y_train)\n",
    "\n",
    "print_score(dt,x_train,x_test,y_train,y_test,train=True)\n",
    "print_score(dt,x_train,x_test,y_train,y_test,train=False)\n",
    "model_accuracy(dt)"
   ]
  },
  {
   "cell_type": "code",
   "execution_count": 35,
   "id": "5ee6e2fc",
   "metadata": {},
   "outputs": [
    {
     "name": "stdout",
     "output_type": "stream",
     "text": [
      "Train Report: 0.8826808874067005\n",
      "Test Report: 0.44879080317212994\n",
      "RMSE: 0.7380508915829735\n",
      "MAE: 0.563473064292612\n",
      "MSE: 0.5447191185664222\n",
      "Accuracy: 37.87 %\n",
      "Standard Deviation: 5.93 %\n"
     ]
    }
   ],
   "source": [
    "#Model no.6\n",
    "from sklearn.ensemble import BaggingRegressor\n",
    "\n",
    "bb=BaggingRegressor()\n",
    "\n",
    "bb.fit(x_train,y_train)\n",
    "\n",
    "print_score(bb,x_train,x_test,y_train,y_test,train=True)\n",
    "print_score(bb,x_train,x_test,y_train,y_test,train=False)\n",
    "model_accuracy(bb)"
   ]
  },
  {
   "cell_type": "code",
   "execution_count": 36,
   "id": "1471aa13",
   "metadata": {},
   "outputs": [
    {
     "name": "stdout",
     "output_type": "stream",
     "text": [
      "Train Report: 0.6262530764807834\n",
      "Test Report: 0.5069781535834803\n",
      "RMSE: 0.6980092269605049\n",
      "MAE: 0.5543170641394937\n",
      "MSE: 0.48721688092200166\n",
      "Accuracy: 46.91 %\n",
      "Standard Deviation: 4.25 %\n"
     ]
    }
   ],
   "source": [
    "# Model no.7\n",
    "from sklearn.ensemble import AdaBoostRegressor\n",
    "ada=AdaBoostRegressor()\n",
    "\n",
    "ada.fit(x_train,y_train)\n",
    "\n",
    "print_score(ada,x_train,x_test,y_train,y_test,train=True)\n",
    "print_score(ada,x_train,x_test,y_train,y_test,train=False)\n",
    "model_accuracy(ada)"
   ]
  },
  {
   "cell_type": "code",
   "execution_count": 37,
   "id": "450d1267",
   "metadata": {},
   "outputs": [
    {
     "data": {
      "text/plain": [
       "{'gamma': 0.002, 'learning_rate': 0.1, 'max_depth': 2, 'n_estimators': 50}"
      ]
     },
     "execution_count": 37,
     "metadata": {},
     "output_type": "execute_result"
    }
   ],
   "source": [
    "# Hyper tuning by using GridSearchCV\n",
    "from sklearn.model_selection import GridSearchCV\n",
    "\n",
    "para={'max_depth':range(0,12,2),'learning_rate':[0.25,0.1,0.3,0.4],'n_estimators':[20,50,70],'gamma':[0.20,0.3,0.002,0.001,0.1]}\n",
    "grid=GridSearchCV(estimator=xgb, param_grid=para,cv=5)\n",
    "grid.fit(x_train,y_train)\n",
    "\n",
    "grid.best_params_"
   ]
  },
  {
   "cell_type": "code",
   "execution_count": 39,
   "id": "cb5727dc",
   "metadata": {},
   "outputs": [
    {
     "name": "stdout",
     "output_type": "stream",
     "text": [
      "Train Report: 0.6269295624844142\n",
      "Test Report: 0.5374695028191623\n",
      "RMSE: 0.6760802797314769\n",
      "MAE: 0.5282945090926411\n",
      "MSE: 0.4570845446417921\n",
      "Accuracy: 47.28 %\n",
      "Standard Deviation: 2.26 %\n"
     ]
    }
   ],
   "source": [
    "xgb=XGBRegressor(learning_rate= 0.1, max_depth=2, n_estimators=50, gamma=0.002)\n",
    "xgb.fit(x_train,y_train)\n",
    "\n",
    "print_score(xgb,x_train,x_test,y_train,y_test,train=True)\n",
    "print_score(xgb,x_train,x_test,y_train,y_test,train=False)\n",
    "model_accuracy(xgb)"
   ]
  },
  {
   "cell_type": "code",
   "execution_count": 40,
   "id": "68023c0c",
   "metadata": {},
   "outputs": [
    {
     "data": {
      "text/plain": [
       "{'random_state': 60, 'n_estimators': 12, 'base_estimator': AdaBoostRegressor()}"
      ]
     },
     "execution_count": 40,
     "metadata": {},
     "output_type": "execute_result"
    }
   ],
   "source": [
    "# Hyper tuning by using RandomizedSearchCV With Bagging\n",
    "from sklearn.model_selection import RandomizedSearchCV\n",
    "\n",
    "para={'base_estimator':[bb,xgb,dt,gbdt,Lasso_reg,ada,rand_regressor],'n_estimators':range(0,100,4),'random_state':[40,60,20]}\n",
    "rand=RandomizedSearchCV(estimator=bb, cv=3,param_distributions=para)\n",
    "rand.fit(x_train,y_train)\n",
    "\n",
    "rand.best_params_"
   ]
  },
  {
   "cell_type": "code",
   "execution_count": 43,
   "id": "b755b507",
   "metadata": {},
   "outputs": [
    {
     "name": "stdout",
     "output_type": "stream",
     "text": [
      "Train Report: 0.6128388056726493\n",
      "Test Report: 0.51861207724371\n",
      "RMSE: 0.6897245378110574\n",
      "MAE: 0.5421571735972873\n",
      "MSE: 0.47571993805867663\n",
      "Accuracy: 50.44 %\n",
      "Standard Deviation: 0.82 %\n"
     ]
    }
   ],
   "source": [
    "bb=BaggingRegressor(base_estimator=ada, n_estimators=12, random_state=60)\n",
    "\n",
    "bb.fit(x_train,y_train)\n",
    "\n",
    "print_score(bb,x_train,x_test,y_train,y_test,train=True)\n",
    "print_score(bb,x_train,x_test,y_train,y_test,train=False)\n",
    "model_accuracy(bb)"
   ]
  },
  {
   "cell_type": "markdown",
   "id": "1267921b",
   "metadata": {},
   "source": [
    "# so, from accuracy(50.44%) i m selecting baggingregressor with randomsearchcv model with cross validation "
   ]
  },
  {
   "cell_type": "code",
   "execution_count": null,
   "id": "098f2614",
   "metadata": {},
   "outputs": [],
   "source": []
  }
 ],
 "metadata": {
  "kernelspec": {
   "display_name": "Python 3",
   "language": "python",
   "name": "python3"
  },
  "language_info": {
   "codemirror_mode": {
    "name": "ipython",
    "version": 3
   },
   "file_extension": ".py",
   "mimetype": "text/x-python",
   "name": "python",
   "nbconvert_exporter": "python",
   "pygments_lexer": "ipython3",
   "version": "3.8.8"
  }
 },
 "nbformat": 4,
 "nbformat_minor": 5
}
